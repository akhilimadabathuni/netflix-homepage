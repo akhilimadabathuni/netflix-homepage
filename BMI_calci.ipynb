{
  "nbformat": 4,
  "nbformat_minor": 0,
  "metadata": {
    "colab": {
      "provenance": [],
      "authorship_tag": "ABX9TyNEIwS1ZQOEnLAVuAbZNtya",
      "include_colab_link": true
    },
    "kernelspec": {
      "name": "python3",
      "display_name": "Python 3"
    },
    "language_info": {
      "name": "python"
    }
  },
  "cells": [
    {
      "cell_type": "markdown",
      "metadata": {
        "id": "view-in-github",
        "colab_type": "text"
      },
      "source": [
        "<a href=\"https://colab.research.google.com/github/akhilimadabathuni/netflix-homepage/blob/main/BMI_calci.ipynb\" target=\"_parent\"><img src=\"https://colab.research.google.com/assets/colab-badge.svg\" alt=\"Open In Colab\"/></a>"
      ]
    },
    {
      "cell_type": "code",
      "execution_count": 21,
      "metadata": {
        "colab": {
          "base_uri": "https://localhost:8080/"
        },
        "id": "Mpd7M2SMFb6e",
        "outputId": "a384f966-c509-4cfb-f2e7-f29bc0f71200"
      },
      "outputs": [
        {
          "output_type": "stream",
          "name": "stdout",
          "text": [
            "Enter your weight (kg): 92\n",
            "Enter your height (m): 1.77\n",
            "Your BMI is 29.37.\n",
            "BMI category: Overweight\n"
          ]
        }
      ],
      "source": [
        "#BMI categories\n",
        "bmi_categories = {\n",
        "    \"Underweight\": (None, 18.4),\n",
        "    \"Normal\": (18.5, 24.9),\n",
        "    \"Overweight\": (25.0, 29.9),\n",
        "    \"Obese\": (30.0, None),\n",
        "}\n",
        "\n",
        "#user input\n",
        "weight = float(input(\"Enter your weight (kg): \"))\n",
        "height = float(input(\"Enter your height (m): \"))\n",
        "\n",
        "# Calculate BMI\n",
        "bmi = weight / (height ** 2)\n",
        "\n",
        "# Find the corresponding BMI category\n",
        "bmi_category = None\n",
        "for category, (lower_bound, upper_bound) in bmi_categories.items():\n",
        "    if (lower_bound is None or bmi >= lower_bound) and (upper_bound is None or bmi < upper_bound):\n",
        "        bmi_category = category\n",
        "        break\n",
        "\n",
        "# Display results\n",
        "print(f\"Your BMI is {bmi:.2f}.\")\n",
        "if bmi_category is not None:\n",
        "    print(f\"BMI category: {bmi_category}\")\n",
        "else:\n",
        "    print(\"Error: Could not determine BMI category.\")"
      ]
    },
    {
      "cell_type": "code",
      "source": [],
      "metadata": {
        "id": "bGh-WqRUH3HS"
      },
      "execution_count": null,
      "outputs": []
    }
  ]
}